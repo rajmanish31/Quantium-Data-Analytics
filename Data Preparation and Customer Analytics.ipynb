{
 "cells": [
  {
   "cell_type": "code",
   "execution_count": 1,
   "id": "76050dc7",
   "metadata": {
    "_cell_guid": "b1076dfc-b9ad-4769-8c92-a6c4dae69d19",
    "_uuid": "8f2839f25d086af736a60e9eeb907d3b93b6e0e5",
    "execution": {
     "iopub.execute_input": "2024-03-10T13:00:09.142725Z",
     "iopub.status.busy": "2024-03-10T13:00:09.142251Z",
     "iopub.status.idle": "2024-03-10T13:00:09.164997Z",
     "shell.execute_reply": "2024-03-10T13:00:09.163779Z"
    },
    "papermill": {
     "duration": 0.033568,
     "end_time": "2024-03-10T13:00:09.167583",
     "exception": false,
     "start_time": "2024-03-10T13:00:09.134015",
     "status": "completed"
    },
    "tags": []
   },
   "outputs": [
    {
     "name": "stdout",
     "output_type": "stream",
     "text": [
      "/kaggle/input/quantium-data-analytics-dataset/QVI_purchase_behaviour.csv\n",
      "/kaggle/input/quantium-data-analytics-dataset/QVI_transaction_data.xlsx\n"
     ]
    }
   ],
   "source": [
    "# This Python 3 environment comes with many helpful analytics libraries installed\n",
    "# It is defined by the kaggle/python Docker image: https://github.com/kaggle/docker-python\n",
    "\n",
    "# Input data files are available in the read-only \"../input/\" directory\n",
    "# For example, running this (by clicking run or pressing Shift+Enter) will list all files under the input directory\n",
    "\n",
    "import os\n",
    "for dirname, _, filenames in os.walk('/kaggle/input'):\n",
    "    for filename in filenames:\n",
    "        print(os.path.join(dirname, filename))\n",
    "\n",
    "# You can write up to 20GB to the current directory (/kaggle/working/) that gets preserved as output when you create a version using \"Save & Run All\" \n",
    "# You can also write temporary files to /kaggle/temp/, but they won't be saved outside of the current session"
   ]
  },
  {
   "cell_type": "code",
   "execution_count": 2,
   "id": "95cda2e2",
   "metadata": {
    "execution": {
     "iopub.execute_input": "2024-03-10T13:00:09.182732Z",
     "iopub.status.busy": "2024-03-10T13:00:09.181990Z",
     "iopub.status.idle": "2024-03-10T13:00:11.389579Z",
     "shell.execute_reply": "2024-03-10T13:00:11.388305Z"
    },
    "papermill": {
     "duration": 2.218384,
     "end_time": "2024-03-10T13:00:11.392487",
     "exception": false,
     "start_time": "2024-03-10T13:00:09.174103",
     "status": "completed"
    },
    "tags": []
   },
   "outputs": [],
   "source": [
    "# Importing required libraries\n",
    "import numpy as np\n",
    "import pandas as pd\n",
    "import seaborn as sns\n",
    "import matplotlib.pyplot as plt"
   ]
  },
  {
   "cell_type": "code",
   "execution_count": 3,
   "id": "5c3a9c78",
   "metadata": {
    "execution": {
     "iopub.execute_input": "2024-03-10T13:00:11.407054Z",
     "iopub.status.busy": "2024-03-10T13:00:11.405735Z",
     "iopub.status.idle": "2024-03-10T13:00:45.699488Z",
     "shell.execute_reply": "2024-03-10T13:00:45.698220Z"
    },
    "papermill": {
     "duration": 34.303715,
     "end_time": "2024-03-10T13:00:45.702225",
     "exception": false,
     "start_time": "2024-03-10T13:00:11.398510",
     "status": "completed"
    },
    "tags": []
   },
   "outputs": [],
   "source": [
    "# Loading Data\n",
    "transactionData = pd.read_excel(\"/kaggle/input/quantium-data-analytics-dataset/QVI_transaction_data.xlsx\")\n",
    "customerData = pd.read_csv(\"/kaggle/input/quantium-data-analytics-dataset/QVI_purchase_behaviour.csv\")"
   ]
  },
  {
   "cell_type": "code",
   "execution_count": 4,
   "id": "af18271c",
   "metadata": {
    "execution": {
     "iopub.execute_input": "2024-03-10T13:00:45.716647Z",
     "iopub.status.busy": "2024-03-10T13:00:45.716283Z",
     "iopub.status.idle": "2024-03-10T13:00:45.722685Z",
     "shell.execute_reply": "2024-03-10T13:00:45.721835Z"
    },
    "papermill": {
     "duration": 0.016196,
     "end_time": "2024-03-10T13:00:45.724666",
     "exception": false,
     "start_time": "2024-03-10T13:00:45.708470",
     "status": "completed"
    },
    "tags": []
   },
   "outputs": [
    {
     "data": {
      "text/plain": [
       "(264836, 8)"
      ]
     },
     "execution_count": 4,
     "metadata": {},
     "output_type": "execute_result"
    }
   ],
   "source": [
    "# Checking the shape of transacton data\n",
    "transactionData.shape"
   ]
  },
  {
   "cell_type": "markdown",
   "id": "ae4ce386",
   "metadata": {
    "papermill": {
     "duration": 0.005649,
     "end_time": "2024-03-10T13:00:45.736376",
     "exception": false,
     "start_time": "2024-03-10T13:00:45.730727",
     "status": "completed"
    },
    "tags": []
   },
   "source": [
    "We can see that there are more than `260K` data points in the transaction dataset."
   ]
  },
  {
   "cell_type": "code",
   "execution_count": 5,
   "id": "fdd8e596",
   "metadata": {
    "execution": {
     "iopub.execute_input": "2024-03-10T13:00:45.750445Z",
     "iopub.status.busy": "2024-03-10T13:00:45.749400Z",
     "iopub.status.idle": "2024-03-10T13:00:45.767711Z",
     "shell.execute_reply": "2024-03-10T13:00:45.766879Z"
    },
    "papermill": {
     "duration": 0.027478,
     "end_time": "2024-03-10T13:00:45.769822",
     "exception": false,
     "start_time": "2024-03-10T13:00:45.742344",
     "status": "completed"
    },
    "tags": []
   },
   "outputs": [
    {
     "data": {
      "text/html": [
       "<div>\n",
       "<style scoped>\n",
       "    .dataframe tbody tr th:only-of-type {\n",
       "        vertical-align: middle;\n",
       "    }\n",
       "\n",
       "    .dataframe tbody tr th {\n",
       "        vertical-align: top;\n",
       "    }\n",
       "\n",
       "    .dataframe thead th {\n",
       "        text-align: right;\n",
       "    }\n",
       "</style>\n",
       "<table border=\"1\" class=\"dataframe\">\n",
       "  <thead>\n",
       "    <tr style=\"text-align: right;\">\n",
       "      <th></th>\n",
       "      <th>DATE</th>\n",
       "      <th>STORE_NBR</th>\n",
       "      <th>LYLTY_CARD_NBR</th>\n",
       "      <th>TXN_ID</th>\n",
       "      <th>PROD_NBR</th>\n",
       "      <th>PROD_NAME</th>\n",
       "      <th>PROD_QTY</th>\n",
       "      <th>TOT_SALES</th>\n",
       "    </tr>\n",
       "  </thead>\n",
       "  <tbody>\n",
       "    <tr>\n",
       "      <th>0</th>\n",
       "      <td>43390</td>\n",
       "      <td>1</td>\n",
       "      <td>1000</td>\n",
       "      <td>1</td>\n",
       "      <td>5</td>\n",
       "      <td>Natural Chip        Compny SeaSalt175g</td>\n",
       "      <td>2</td>\n",
       "      <td>6.0</td>\n",
       "    </tr>\n",
       "    <tr>\n",
       "      <th>1</th>\n",
       "      <td>43599</td>\n",
       "      <td>1</td>\n",
       "      <td>1307</td>\n",
       "      <td>348</td>\n",
       "      <td>66</td>\n",
       "      <td>CCs Nacho Cheese    175g</td>\n",
       "      <td>3</td>\n",
       "      <td>6.3</td>\n",
       "    </tr>\n",
       "    <tr>\n",
       "      <th>2</th>\n",
       "      <td>43605</td>\n",
       "      <td>1</td>\n",
       "      <td>1343</td>\n",
       "      <td>383</td>\n",
       "      <td>61</td>\n",
       "      <td>Smiths Crinkle Cut  Chips Chicken 170g</td>\n",
       "      <td>2</td>\n",
       "      <td>2.9</td>\n",
       "    </tr>\n",
       "    <tr>\n",
       "      <th>3</th>\n",
       "      <td>43329</td>\n",
       "      <td>2</td>\n",
       "      <td>2373</td>\n",
       "      <td>974</td>\n",
       "      <td>69</td>\n",
       "      <td>Smiths Chip Thinly  S/Cream&amp;Onion 175g</td>\n",
       "      <td>5</td>\n",
       "      <td>15.0</td>\n",
       "    </tr>\n",
       "    <tr>\n",
       "      <th>4</th>\n",
       "      <td>43330</td>\n",
       "      <td>2</td>\n",
       "      <td>2426</td>\n",
       "      <td>1038</td>\n",
       "      <td>108</td>\n",
       "      <td>Kettle Tortilla ChpsHny&amp;Jlpno Chili 150g</td>\n",
       "      <td>3</td>\n",
       "      <td>13.8</td>\n",
       "    </tr>\n",
       "  </tbody>\n",
       "</table>\n",
       "</div>"
      ],
      "text/plain": [
       "    DATE  STORE_NBR  LYLTY_CARD_NBR  TXN_ID  PROD_NBR  \\\n",
       "0  43390          1            1000       1         5   \n",
       "1  43599          1            1307     348        66   \n",
       "2  43605          1            1343     383        61   \n",
       "3  43329          2            2373     974        69   \n",
       "4  43330          2            2426    1038       108   \n",
       "\n",
       "                                  PROD_NAME  PROD_QTY  TOT_SALES  \n",
       "0    Natural Chip        Compny SeaSalt175g         2        6.0  \n",
       "1                  CCs Nacho Cheese    175g         3        6.3  \n",
       "2    Smiths Crinkle Cut  Chips Chicken 170g         2        2.9  \n",
       "3    Smiths Chip Thinly  S/Cream&Onion 175g         5       15.0  \n",
       "4  Kettle Tortilla ChpsHny&Jlpno Chili 150g         3       13.8  "
      ]
     },
     "execution_count": 5,
     "metadata": {},
     "output_type": "execute_result"
    }
   ],
   "source": [
    "# Checking first 5 rows of transaction data\n",
    "transactionData.head()"
   ]
  },
  {
   "cell_type": "code",
   "execution_count": 6,
   "id": "8c31885c",
   "metadata": {
    "execution": {
     "iopub.execute_input": "2024-03-10T13:00:45.784492Z",
     "iopub.status.busy": "2024-03-10T13:00:45.783795Z",
     "iopub.status.idle": "2024-03-10T13:00:45.790372Z",
     "shell.execute_reply": "2024-03-10T13:00:45.789073Z"
    },
    "papermill": {
     "duration": 0.016252,
     "end_time": "2024-03-10T13:00:45.792410",
     "exception": false,
     "start_time": "2024-03-10T13:00:45.776158",
     "status": "completed"
    },
    "tags": []
   },
   "outputs": [
    {
     "name": "stdout",
     "output_type": "stream",
     "text": [
      "DATE                int64\n",
      "STORE_NBR           int64\n",
      "LYLTY_CARD_NBR      int64\n",
      "TXN_ID              int64\n",
      "PROD_NBR            int64\n",
      "PROD_NAME          object\n",
      "PROD_QTY            int64\n",
      "TOT_SALES         float64\n",
      "dtype: object\n"
     ]
    }
   ],
   "source": [
    "# Checking data type of each column of transaction data\n",
    "print(transactionData.dtypes)"
   ]
  },
  {
   "cell_type": "markdown",
   "id": "eca66503",
   "metadata": {
    "papermill": {
     "duration": 0.005996,
     "end_time": "2024-03-10T13:00:45.804876",
     "exception": false,
     "start_time": "2024-03-10T13:00:45.798880",
     "status": "completed"
    },
    "tags": []
   },
   "source": [
    "From the above column data type of transaction data, we can see that the `DATE` column is in `integer` format. First, we should change the format of `DATE` column to `Date`."
   ]
  },
  {
   "cell_type": "code",
   "execution_count": 7,
   "id": "c74c08b2",
   "metadata": {
    "execution": {
     "iopub.execute_input": "2024-03-10T13:00:45.819830Z",
     "iopub.status.busy": "2024-03-10T13:00:45.819037Z",
     "iopub.status.idle": "2024-03-10T13:00:45.840282Z",
     "shell.execute_reply": "2024-03-10T13:00:45.839044Z"
    },
    "papermill": {
     "duration": 0.03188,
     "end_time": "2024-03-10T13:00:45.842999",
     "exception": false,
     "start_time": "2024-03-10T13:00:45.811119",
     "status": "completed"
    },
    "tags": []
   },
   "outputs": [],
   "source": [
    "# Converting the data type of `DATE` column from integer to datetime\n",
    "transactionData[\"DATE\"] = pd.to_datetime(transactionData[\"DATE\"], unit=\"D\", origin=pd.Timestamp('1899-12-30'))"
   ]
  },
  {
   "cell_type": "code",
   "execution_count": 8,
   "id": "03f1a43b",
   "metadata": {
    "execution": {
     "iopub.execute_input": "2024-03-10T13:00:45.858898Z",
     "iopub.status.busy": "2024-03-10T13:00:45.858483Z",
     "iopub.status.idle": "2024-03-10T13:00:45.865048Z",
     "shell.execute_reply": "2024-03-10T13:00:45.863974Z"
    },
    "papermill": {
     "duration": 0.017271,
     "end_time": "2024-03-10T13:00:45.867382",
     "exception": false,
     "start_time": "2024-03-10T13:00:45.850111",
     "status": "completed"
    },
    "tags": []
   },
   "outputs": [
    {
     "name": "stdout",
     "output_type": "stream",
     "text": [
      "DATE              datetime64[ns]\n",
      "STORE_NBR                  int64\n",
      "LYLTY_CARD_NBR             int64\n",
      "TXN_ID                     int64\n",
      "PROD_NBR                   int64\n",
      "PROD_NAME                 object\n",
      "PROD_QTY                   int64\n",
      "TOT_SALES                float64\n",
      "dtype: object\n"
     ]
    }
   ],
   "source": [
    "# Checking data type of each column of transaction data after coverted `DATE` column from `integer` to `date` format\n",
    "print(transactionData.dtypes)"
   ]
  },
  {
   "cell_type": "markdown",
   "id": "362a7b08",
   "metadata": {
    "papermill": {
     "duration": 0.006565,
     "end_time": "2024-03-10T13:00:45.881785",
     "exception": false,
     "start_time": "2024-03-10T13:00:45.875220",
     "status": "completed"
    },
    "tags": []
   },
   "source": [
    "Now we can see that the `DATE` column is in `datetime` format."
   ]
  },
  {
   "cell_type": "code",
   "execution_count": 9,
   "id": "d9f2f104",
   "metadata": {
    "execution": {
     "iopub.execute_input": "2024-03-10T13:00:45.896448Z",
     "iopub.status.busy": "2024-03-10T13:00:45.896026Z",
     "iopub.status.idle": "2024-03-10T13:00:45.909739Z",
     "shell.execute_reply": "2024-03-10T13:00:45.908718Z"
    },
    "papermill": {
     "duration": 0.023627,
     "end_time": "2024-03-10T13:00:45.911923",
     "exception": false,
     "start_time": "2024-03-10T13:00:45.888296",
     "status": "completed"
    },
    "tags": []
   },
   "outputs": [
    {
     "data": {
      "text/html": [
       "<div>\n",
       "<style scoped>\n",
       "    .dataframe tbody tr th:only-of-type {\n",
       "        vertical-align: middle;\n",
       "    }\n",
       "\n",
       "    .dataframe tbody tr th {\n",
       "        vertical-align: top;\n",
       "    }\n",
       "\n",
       "    .dataframe thead th {\n",
       "        text-align: right;\n",
       "    }\n",
       "</style>\n",
       "<table border=\"1\" class=\"dataframe\">\n",
       "  <thead>\n",
       "    <tr style=\"text-align: right;\">\n",
       "      <th></th>\n",
       "      <th>DATE</th>\n",
       "      <th>STORE_NBR</th>\n",
       "      <th>LYLTY_CARD_NBR</th>\n",
       "      <th>TXN_ID</th>\n",
       "      <th>PROD_NBR</th>\n",
       "      <th>PROD_NAME</th>\n",
       "      <th>PROD_QTY</th>\n",
       "      <th>TOT_SALES</th>\n",
       "    </tr>\n",
       "  </thead>\n",
       "  <tbody>\n",
       "    <tr>\n",
       "      <th>0</th>\n",
       "      <td>2018-10-17</td>\n",
       "      <td>1</td>\n",
       "      <td>1000</td>\n",
       "      <td>1</td>\n",
       "      <td>5</td>\n",
       "      <td>Natural Chip        Compny SeaSalt175g</td>\n",
       "      <td>2</td>\n",
       "      <td>6.0</td>\n",
       "    </tr>\n",
       "    <tr>\n",
       "      <th>1</th>\n",
       "      <td>2019-05-14</td>\n",
       "      <td>1</td>\n",
       "      <td>1307</td>\n",
       "      <td>348</td>\n",
       "      <td>66</td>\n",
       "      <td>CCs Nacho Cheese    175g</td>\n",
       "      <td>3</td>\n",
       "      <td>6.3</td>\n",
       "    </tr>\n",
       "    <tr>\n",
       "      <th>2</th>\n",
       "      <td>2019-05-20</td>\n",
       "      <td>1</td>\n",
       "      <td>1343</td>\n",
       "      <td>383</td>\n",
       "      <td>61</td>\n",
       "      <td>Smiths Crinkle Cut  Chips Chicken 170g</td>\n",
       "      <td>2</td>\n",
       "      <td>2.9</td>\n",
       "    </tr>\n",
       "    <tr>\n",
       "      <th>3</th>\n",
       "      <td>2018-08-17</td>\n",
       "      <td>2</td>\n",
       "      <td>2373</td>\n",
       "      <td>974</td>\n",
       "      <td>69</td>\n",
       "      <td>Smiths Chip Thinly  S/Cream&amp;Onion 175g</td>\n",
       "      <td>5</td>\n",
       "      <td>15.0</td>\n",
       "    </tr>\n",
       "    <tr>\n",
       "      <th>4</th>\n",
       "      <td>2018-08-18</td>\n",
       "      <td>2</td>\n",
       "      <td>2426</td>\n",
       "      <td>1038</td>\n",
       "      <td>108</td>\n",
       "      <td>Kettle Tortilla ChpsHny&amp;Jlpno Chili 150g</td>\n",
       "      <td>3</td>\n",
       "      <td>13.8</td>\n",
       "    </tr>\n",
       "  </tbody>\n",
       "</table>\n",
       "</div>"
      ],
      "text/plain": [
       "        DATE  STORE_NBR  LYLTY_CARD_NBR  TXN_ID  PROD_NBR  \\\n",
       "0 2018-10-17          1            1000       1         5   \n",
       "1 2019-05-14          1            1307     348        66   \n",
       "2 2019-05-20          1            1343     383        61   \n",
       "3 2018-08-17          2            2373     974        69   \n",
       "4 2018-08-18          2            2426    1038       108   \n",
       "\n",
       "                                  PROD_NAME  PROD_QTY  TOT_SALES  \n",
       "0    Natural Chip        Compny SeaSalt175g         2        6.0  \n",
       "1                  CCs Nacho Cheese    175g         3        6.3  \n",
       "2    Smiths Crinkle Cut  Chips Chicken 170g         2        2.9  \n",
       "3    Smiths Chip Thinly  S/Cream&Onion 175g         5       15.0  \n",
       "4  Kettle Tortilla ChpsHny&Jlpno Chili 150g         3       13.8  "
      ]
     },
     "execution_count": 9,
     "metadata": {},
     "output_type": "execute_result"
    }
   ],
   "source": [
    "# Checking first 5 rows of transaction data after coverted `DATE` column from `integer` to `date` format\n",
    "transactionData.head()"
   ]
  },
  {
   "cell_type": "code",
   "execution_count": 10,
   "id": "e510f10c",
   "metadata": {
    "execution": {
     "iopub.execute_input": "2024-03-10T13:00:45.927719Z",
     "iopub.status.busy": "2024-03-10T13:00:45.926850Z",
     "iopub.status.idle": "2024-03-10T13:00:45.964157Z",
     "shell.execute_reply": "2024-03-10T13:00:45.963187Z"
    },
    "papermill": {
     "duration": 0.047453,
     "end_time": "2024-03-10T13:00:45.966451",
     "exception": false,
     "start_time": "2024-03-10T13:00:45.918998",
     "status": "completed"
    },
    "tags": []
   },
   "outputs": [
    {
     "data": {
      "text/plain": [
       "count                                     264836\n",
       "unique                                       114\n",
       "top       Kettle Mozzarella   Basil & Pesto 175g\n",
       "freq                                        3304\n",
       "Name: PROD_NAME, dtype: object"
      ]
     },
     "execution_count": 10,
     "metadata": {},
     "output_type": "execute_result"
    }
   ],
   "source": [
    "# Summary of product name column\n",
    "transactionData[\"PROD_NAME\"].describe()"
   ]
  },
  {
   "cell_type": "markdown",
   "id": "7da4a841",
   "metadata": {
    "papermill": {
     "duration": 0.006697,
     "end_time": "2024-03-10T13:00:45.980222",
     "exception": false,
     "start_time": "2024-03-10T13:00:45.973525",
     "status": "completed"
    },
    "tags": []
   },
   "source": [
    "From the above summary, we can conclude that there are 114 unique products, and ` Kettle Mozzarella   Basil & Pesto 175g` has the highest frequency, which is 3304."
   ]
  },
  {
   "cell_type": "code",
   "execution_count": 11,
   "id": "4244c0b1",
   "metadata": {
    "execution": {
     "iopub.execute_input": "2024-03-10T13:00:45.995695Z",
     "iopub.status.busy": "2024-03-10T13:00:45.995330Z",
     "iopub.status.idle": "2024-03-10T13:00:46.033130Z",
     "shell.execute_reply": "2024-03-10T13:00:46.031847Z"
    },
    "papermill": {
     "duration": 0.048345,
     "end_time": "2024-03-10T13:00:46.035395",
     "exception": false,
     "start_time": "2024-03-10T13:00:45.987050",
     "status": "completed"
    },
    "tags": []
   },
   "outputs": [
    {
     "name": "stdout",
     "output_type": "stream",
     "text": [
      "       words\n",
      "0    Natural\n",
      "1       Chip\n",
      "2           \n",
      "3           \n",
      "4           \n",
      "..       ...\n",
      "818  Doritos\n",
      "819    Salsa\n",
      "820     Mild\n",
      "821         \n",
      "822     300g\n",
      "\n",
      "[823 rows x 1 columns]\n"
     ]
    }
   ],
   "source": [
    "# Extracting unique product name\n",
    "unique_prod_names = transactionData['PROD_NAME'].unique()\n",
    "\n",
    "# Splitting words using space as a delimiter and creating a DataFrame\n",
    "product_words_df = pd.DataFrame({'words': pd.Series(' '.join(unique_prod_names).split(' '))})\n",
    "\n",
    "# Displaying the DataFrame\n",
    "print(product_words_df)"
   ]
  },
  {
   "cell_type": "code",
   "execution_count": 12,
   "id": "37d6944d",
   "metadata": {
    "execution": {
     "iopub.execute_input": "2024-03-10T13:00:46.051142Z",
     "iopub.status.busy": "2024-03-10T13:00:46.050517Z",
     "iopub.status.idle": "2024-03-10T13:00:46.065270Z",
     "shell.execute_reply": "2024-03-10T13:00:46.064358Z"
    },
    "papermill": {
     "duration": 0.025083,
     "end_time": "2024-03-10T13:00:46.067289",
     "exception": false,
     "start_time": "2024-03-10T13:00:46.042206",
     "status": "completed"
    },
    "tags": []
   },
   "outputs": [
    {
     "data": {
      "text/html": [
       "<div>\n",
       "<style scoped>\n",
       "    .dataframe tbody tr th:only-of-type {\n",
       "        vertical-align: middle;\n",
       "    }\n",
       "\n",
       "    .dataframe tbody tr th {\n",
       "        vertical-align: top;\n",
       "    }\n",
       "\n",
       "    .dataframe thead th {\n",
       "        text-align: right;\n",
       "    }\n",
       "</style>\n",
       "<table border=\"1\" class=\"dataframe\">\n",
       "  <thead>\n",
       "    <tr style=\"text-align: right;\">\n",
       "      <th></th>\n",
       "      <th>words</th>\n",
       "    </tr>\n",
       "  </thead>\n",
       "  <tbody>\n",
       "    <tr>\n",
       "      <th>0</th>\n",
       "      <td>Natural</td>\n",
       "    </tr>\n",
       "    <tr>\n",
       "      <th>1</th>\n",
       "      <td>Chip</td>\n",
       "    </tr>\n",
       "    <tr>\n",
       "      <th>2</th>\n",
       "      <td>Compny</td>\n",
       "    </tr>\n",
       "    <tr>\n",
       "      <th>3</th>\n",
       "      <td>CCs</td>\n",
       "    </tr>\n",
       "    <tr>\n",
       "      <th>4</th>\n",
       "      <td>Nacho</td>\n",
       "    </tr>\n",
       "    <tr>\n",
       "      <th>...</th>\n",
       "      <td>...</td>\n",
       "    </tr>\n",
       "    <tr>\n",
       "      <th>432</th>\n",
       "      <td>Cut</td>\n",
       "    </tr>\n",
       "    <tr>\n",
       "      <th>433</th>\n",
       "      <td>Bolognese</td>\n",
       "    </tr>\n",
       "    <tr>\n",
       "      <th>434</th>\n",
       "      <td>Doritos</td>\n",
       "    </tr>\n",
       "    <tr>\n",
       "      <th>435</th>\n",
       "      <td>Salsa</td>\n",
       "    </tr>\n",
       "    <tr>\n",
       "      <th>436</th>\n",
       "      <td>Mild</td>\n",
       "    </tr>\n",
       "  </tbody>\n",
       "</table>\n",
       "<p>437 rows × 1 columns</p>\n",
       "</div>"
      ],
      "text/plain": [
       "         words\n",
       "0      Natural\n",
       "1         Chip\n",
       "2       Compny\n",
       "3          CCs\n",
       "4        Nacho\n",
       "..         ...\n",
       "432        Cut\n",
       "433  Bolognese\n",
       "434    Doritos\n",
       "435      Salsa\n",
       "436       Mild\n",
       "\n",
       "[437 rows x 1 columns]"
      ]
     },
     "execution_count": 12,
     "metadata": {},
     "output_type": "execute_result"
    }
   ],
   "source": [
    "# Removing rows that contain digits\n",
    "product_words_df = product_words_df[~product_words_df[\"words\"].str.contains('\\d')]\n",
    "\n",
    "# Removing rows that contain special characters\n",
    "product_words_df = product_words_df[~product_words_df[\"words\"].str.contains('[^a-zA-Z]')]\n",
    "\n",
    "# Removing rows that contain whitespace\n",
    "product_words_df = product_words_df[~product_words_df[\"words\"].str.contains('\\s')]\n",
    "\n",
    "# Removing rows that contain empty strings\n",
    "product_words_df = product_words_df[product_words_df[\"words\"] != \"\"]\n",
    "\n",
    "# Resetting index\n",
    "product_words_df = product_words_df.reset_index(drop=True)\n",
    "\n",
    "product_words_df"
   ]
  },
  {
   "cell_type": "code",
   "execution_count": 13,
   "id": "9073f10b",
   "metadata": {
    "execution": {
     "iopub.execute_input": "2024-03-10T13:00:46.083454Z",
     "iopub.status.busy": "2024-03-10T13:00:46.082768Z",
     "iopub.status.idle": "2024-03-10T13:00:46.093472Z",
     "shell.execute_reply": "2024-03-10T13:00:46.092301Z"
    },
    "papermill": {
     "duration": 0.021164,
     "end_time": "2024-03-10T13:00:46.095608",
     "exception": false,
     "start_time": "2024-03-10T13:00:46.074444",
     "status": "completed"
    },
    "tags": []
   },
   "outputs": [
    {
     "name": "stdout",
     "output_type": "stream",
     "text": [
      "       words  Frequency\n",
      "0      Chips         21\n",
      "1     Smiths         16\n",
      "2    Crinkle         14\n",
      "3        Cut         14\n",
      "4     Kettle         13\n",
      "..       ...        ...\n",
      "163  GrnWves          1\n",
      "164  Gcamole          1\n",
      "165   Garden          1\n",
      "166    Fries          1\n",
      "167    saltd          1\n",
      "\n",
      "[168 rows x 2 columns]\n"
     ]
    }
   ],
   "source": [
    "# Counting number of times a word occur in Product name\n",
    "word_frequency = product_words_df.groupby(\"words\")[\"words\"].count().reset_index(name=\"Frequency\").sort_values([\"Frequency\"], ascending=False).reset_index(drop=True)\n",
    "print(word_frequency)"
   ]
  },
  {
   "cell_type": "markdown",
   "id": "d20172f0",
   "metadata": {
    "papermill": {
     "duration": 0.007131,
     "end_time": "2024-03-10T13:00:46.109985",
     "exception": false,
     "start_time": "2024-03-10T13:00:46.102854",
     "status": "completed"
    },
    "tags": []
   },
   "source": [
    "We can see that the word `Chips` occurs the most times. We can also see that the product name contains `Salsa` product, but we are only interested in the `Chips` category, so let's remove the row that contains `Salsa` product from the transaction dataset."
   ]
  },
  {
   "cell_type": "code",
   "execution_count": 14,
   "id": "02d99843",
   "metadata": {
    "execution": {
     "iopub.execute_input": "2024-03-10T13:00:46.126541Z",
     "iopub.status.busy": "2024-03-10T13:00:46.126174Z",
     "iopub.status.idle": "2024-03-10T13:00:46.320311Z",
     "shell.execute_reply": "2024-03-10T13:00:46.318961Z"
    },
    "papermill": {
     "duration": 0.205598,
     "end_time": "2024-03-10T13:00:46.322739",
     "exception": false,
     "start_time": "2024-03-10T13:00:46.117141",
     "status": "completed"
    },
    "tags": []
   },
   "outputs": [
    {
     "data": {
      "text/html": [
       "<div>\n",
       "<style scoped>\n",
       "    .dataframe tbody tr th:only-of-type {\n",
       "        vertical-align: middle;\n",
       "    }\n",
       "\n",
       "    .dataframe tbody tr th {\n",
       "        vertical-align: top;\n",
       "    }\n",
       "\n",
       "    .dataframe thead th {\n",
       "        text-align: right;\n",
       "    }\n",
       "</style>\n",
       "<table border=\"1\" class=\"dataframe\">\n",
       "  <thead>\n",
       "    <tr style=\"text-align: right;\">\n",
       "      <th></th>\n",
       "      <th>DATE</th>\n",
       "      <th>STORE_NBR</th>\n",
       "      <th>LYLTY_CARD_NBR</th>\n",
       "      <th>TXN_ID</th>\n",
       "      <th>PROD_NBR</th>\n",
       "      <th>PROD_NAME</th>\n",
       "      <th>PROD_QTY</th>\n",
       "      <th>TOT_SALES</th>\n",
       "    </tr>\n",
       "  </thead>\n",
       "  <tbody>\n",
       "    <tr>\n",
       "      <th>0</th>\n",
       "      <td>2018-10-17</td>\n",
       "      <td>1</td>\n",
       "      <td>1000</td>\n",
       "      <td>1</td>\n",
       "      <td>5</td>\n",
       "      <td>Natural Chip        Compny SeaSalt175g</td>\n",
       "      <td>2</td>\n",
       "      <td>6.0</td>\n",
       "    </tr>\n",
       "    <tr>\n",
       "      <th>1</th>\n",
       "      <td>2019-05-14</td>\n",
       "      <td>1</td>\n",
       "      <td>1307</td>\n",
       "      <td>348</td>\n",
       "      <td>66</td>\n",
       "      <td>CCs Nacho Cheese    175g</td>\n",
       "      <td>3</td>\n",
       "      <td>6.3</td>\n",
       "    </tr>\n",
       "    <tr>\n",
       "      <th>2</th>\n",
       "      <td>2019-05-20</td>\n",
       "      <td>1</td>\n",
       "      <td>1343</td>\n",
       "      <td>383</td>\n",
       "      <td>61</td>\n",
       "      <td>Smiths Crinkle Cut  Chips Chicken 170g</td>\n",
       "      <td>2</td>\n",
       "      <td>2.9</td>\n",
       "    </tr>\n",
       "    <tr>\n",
       "      <th>3</th>\n",
       "      <td>2018-08-17</td>\n",
       "      <td>2</td>\n",
       "      <td>2373</td>\n",
       "      <td>974</td>\n",
       "      <td>69</td>\n",
       "      <td>Smiths Chip Thinly  S/Cream&amp;Onion 175g</td>\n",
       "      <td>5</td>\n",
       "      <td>15.0</td>\n",
       "    </tr>\n",
       "    <tr>\n",
       "      <th>4</th>\n",
       "      <td>2018-08-18</td>\n",
       "      <td>2</td>\n",
       "      <td>2426</td>\n",
       "      <td>1038</td>\n",
       "      <td>108</td>\n",
       "      <td>Kettle Tortilla ChpsHny&amp;Jlpno Chili 150g</td>\n",
       "      <td>3</td>\n",
       "      <td>13.8</td>\n",
       "    </tr>\n",
       "    <tr>\n",
       "      <th>...</th>\n",
       "      <td>...</td>\n",
       "      <td>...</td>\n",
       "      <td>...</td>\n",
       "      <td>...</td>\n",
       "      <td>...</td>\n",
       "      <td>...</td>\n",
       "      <td>...</td>\n",
       "      <td>...</td>\n",
       "    </tr>\n",
       "    <tr>\n",
       "      <th>246737</th>\n",
       "      <td>2019-03-09</td>\n",
       "      <td>272</td>\n",
       "      <td>272319</td>\n",
       "      <td>270088</td>\n",
       "      <td>89</td>\n",
       "      <td>Kettle Sweet Chilli And Sour Cream 175g</td>\n",
       "      <td>2</td>\n",
       "      <td>10.8</td>\n",
       "    </tr>\n",
       "    <tr>\n",
       "      <th>246738</th>\n",
       "      <td>2018-08-13</td>\n",
       "      <td>272</td>\n",
       "      <td>272358</td>\n",
       "      <td>270154</td>\n",
       "      <td>74</td>\n",
       "      <td>Tostitos Splash Of  Lime 175g</td>\n",
       "      <td>1</td>\n",
       "      <td>4.4</td>\n",
       "    </tr>\n",
       "    <tr>\n",
       "      <th>246739</th>\n",
       "      <td>2018-11-06</td>\n",
       "      <td>272</td>\n",
       "      <td>272379</td>\n",
       "      <td>270187</td>\n",
       "      <td>51</td>\n",
       "      <td>Doritos Mexicana    170g</td>\n",
       "      <td>2</td>\n",
       "      <td>8.8</td>\n",
       "    </tr>\n",
       "    <tr>\n",
       "      <th>246740</th>\n",
       "      <td>2018-12-27</td>\n",
       "      <td>272</td>\n",
       "      <td>272379</td>\n",
       "      <td>270188</td>\n",
       "      <td>42</td>\n",
       "      <td>Doritos Corn Chip Mexican Jalapeno 150g</td>\n",
       "      <td>2</td>\n",
       "      <td>7.8</td>\n",
       "    </tr>\n",
       "    <tr>\n",
       "      <th>246741</th>\n",
       "      <td>2018-09-22</td>\n",
       "      <td>272</td>\n",
       "      <td>272380</td>\n",
       "      <td>270189</td>\n",
       "      <td>74</td>\n",
       "      <td>Tostitos Splash Of  Lime 175g</td>\n",
       "      <td>2</td>\n",
       "      <td>8.8</td>\n",
       "    </tr>\n",
       "  </tbody>\n",
       "</table>\n",
       "<p>246742 rows × 8 columns</p>\n",
       "</div>"
      ],
      "text/plain": [
       "             DATE  STORE_NBR  LYLTY_CARD_NBR  TXN_ID  PROD_NBR  \\\n",
       "0      2018-10-17          1            1000       1         5   \n",
       "1      2019-05-14          1            1307     348        66   \n",
       "2      2019-05-20          1            1343     383        61   \n",
       "3      2018-08-17          2            2373     974        69   \n",
       "4      2018-08-18          2            2426    1038       108   \n",
       "...           ...        ...             ...     ...       ...   \n",
       "246737 2019-03-09        272          272319  270088        89   \n",
       "246738 2018-08-13        272          272358  270154        74   \n",
       "246739 2018-11-06        272          272379  270187        51   \n",
       "246740 2018-12-27        272          272379  270188        42   \n",
       "246741 2018-09-22        272          272380  270189        74   \n",
       "\n",
       "                                       PROD_NAME  PROD_QTY  TOT_SALES  \n",
       "0         Natural Chip        Compny SeaSalt175g         2        6.0  \n",
       "1                       CCs Nacho Cheese    175g         3        6.3  \n",
       "2         Smiths Crinkle Cut  Chips Chicken 170g         2        2.9  \n",
       "3         Smiths Chip Thinly  S/Cream&Onion 175g         5       15.0  \n",
       "4       Kettle Tortilla ChpsHny&Jlpno Chili 150g         3       13.8  \n",
       "...                                          ...       ...        ...  \n",
       "246737   Kettle Sweet Chilli And Sour Cream 175g         2       10.8  \n",
       "246738             Tostitos Splash Of  Lime 175g         1        4.4  \n",
       "246739                  Doritos Mexicana    170g         2        8.8  \n",
       "246740   Doritos Corn Chip Mexican Jalapeno 150g         2        7.8  \n",
       "246741             Tostitos Splash Of  Lime 175g         2        8.8  \n",
       "\n",
       "[246742 rows x 8 columns]"
      ]
     },
     "execution_count": 14,
     "metadata": {},
     "output_type": "execute_result"
    }
   ],
   "source": [
    "# Removing row which contain `Salsa` category\n",
    "transactionData[\"Salsa\"] = transactionData[\"PROD_NAME\"].str.lower().str.contains(\"salsa\")\n",
    "transactionData = transactionData[transactionData[\"Salsa\"] == False].drop(columns=[\"Salsa\"])\n",
    "transactionData = transactionData.reset_index(drop=True)\n",
    "transactionData"
   ]
  },
  {
   "cell_type": "code",
   "execution_count": 15,
   "id": "fa86d132",
   "metadata": {
    "execution": {
     "iopub.execute_input": "2024-03-10T13:00:46.339196Z",
     "iopub.status.busy": "2024-03-10T13:00:46.338821Z",
     "iopub.status.idle": "2024-03-10T13:00:46.424136Z",
     "shell.execute_reply": "2024-03-10T13:00:46.422909Z"
    },
    "papermill": {
     "duration": 0.096278,
     "end_time": "2024-03-10T13:00:46.426497",
     "exception": false,
     "start_time": "2024-03-10T13:00:46.330219",
     "status": "completed"
    },
    "tags": []
   },
   "outputs": [
    {
     "data": {
      "text/html": [
       "<div>\n",
       "<style scoped>\n",
       "    .dataframe tbody tr th:only-of-type {\n",
       "        vertical-align: middle;\n",
       "    }\n",
       "\n",
       "    .dataframe tbody tr th {\n",
       "        vertical-align: top;\n",
       "    }\n",
       "\n",
       "    .dataframe thead th {\n",
       "        text-align: right;\n",
       "    }\n",
       "</style>\n",
       "<table border=\"1\" class=\"dataframe\">\n",
       "  <thead>\n",
       "    <tr style=\"text-align: right;\">\n",
       "      <th></th>\n",
       "      <th>DATE</th>\n",
       "      <th>STORE_NBR</th>\n",
       "      <th>LYLTY_CARD_NBR</th>\n",
       "      <th>TXN_ID</th>\n",
       "      <th>PROD_NBR</th>\n",
       "      <th>PROD_QTY</th>\n",
       "      <th>TOT_SALES</th>\n",
       "    </tr>\n",
       "  </thead>\n",
       "  <tbody>\n",
       "    <tr>\n",
       "      <th>count</th>\n",
       "      <td>246742</td>\n",
       "      <td>246742.000000</td>\n",
       "      <td>2.467420e+05</td>\n",
       "      <td>2.467420e+05</td>\n",
       "      <td>246742.000000</td>\n",
       "      <td>246742.000000</td>\n",
       "      <td>246742.000000</td>\n",
       "    </tr>\n",
       "    <tr>\n",
       "      <th>mean</th>\n",
       "      <td>2018-12-30 01:19:01.211467520</td>\n",
       "      <td>135.051098</td>\n",
       "      <td>1.355310e+05</td>\n",
       "      <td>1.351311e+05</td>\n",
       "      <td>56.351789</td>\n",
       "      <td>1.908062</td>\n",
       "      <td>7.321322</td>\n",
       "    </tr>\n",
       "    <tr>\n",
       "      <th>min</th>\n",
       "      <td>2018-07-01 00:00:00</td>\n",
       "      <td>1.000000</td>\n",
       "      <td>1.000000e+03</td>\n",
       "      <td>1.000000e+00</td>\n",
       "      <td>1.000000</td>\n",
       "      <td>1.000000</td>\n",
       "      <td>1.700000</td>\n",
       "    </tr>\n",
       "    <tr>\n",
       "      <th>25%</th>\n",
       "      <td>2018-09-30 00:00:00</td>\n",
       "      <td>70.000000</td>\n",
       "      <td>7.001500e+04</td>\n",
       "      <td>6.756925e+04</td>\n",
       "      <td>26.000000</td>\n",
       "      <td>2.000000</td>\n",
       "      <td>5.800000</td>\n",
       "    </tr>\n",
       "    <tr>\n",
       "      <th>50%</th>\n",
       "      <td>2018-12-30 00:00:00</td>\n",
       "      <td>130.000000</td>\n",
       "      <td>1.303670e+05</td>\n",
       "      <td>1.351830e+05</td>\n",
       "      <td>53.000000</td>\n",
       "      <td>2.000000</td>\n",
       "      <td>7.400000</td>\n",
       "    </tr>\n",
       "    <tr>\n",
       "      <th>75%</th>\n",
       "      <td>2019-03-31 00:00:00</td>\n",
       "      <td>203.000000</td>\n",
       "      <td>2.030840e+05</td>\n",
       "      <td>2.026538e+05</td>\n",
       "      <td>87.000000</td>\n",
       "      <td>2.000000</td>\n",
       "      <td>8.800000</td>\n",
       "    </tr>\n",
       "    <tr>\n",
       "      <th>max</th>\n",
       "      <td>2019-06-30 00:00:00</td>\n",
       "      <td>272.000000</td>\n",
       "      <td>2.373711e+06</td>\n",
       "      <td>2.415841e+06</td>\n",
       "      <td>114.000000</td>\n",
       "      <td>200.000000</td>\n",
       "      <td>650.000000</td>\n",
       "    </tr>\n",
       "    <tr>\n",
       "      <th>std</th>\n",
       "      <td>NaN</td>\n",
       "      <td>76.787096</td>\n",
       "      <td>8.071528e+04</td>\n",
       "      <td>7.814772e+04</td>\n",
       "      <td>33.695428</td>\n",
       "      <td>0.659831</td>\n",
       "      <td>3.077828</td>\n",
       "    </tr>\n",
       "  </tbody>\n",
       "</table>\n",
       "</div>"
      ],
      "text/plain": [
       "                                DATE      STORE_NBR  LYLTY_CARD_NBR  \\\n",
       "count                         246742  246742.000000    2.467420e+05   \n",
       "mean   2018-12-30 01:19:01.211467520     135.051098    1.355310e+05   \n",
       "min              2018-07-01 00:00:00       1.000000    1.000000e+03   \n",
       "25%              2018-09-30 00:00:00      70.000000    7.001500e+04   \n",
       "50%              2018-12-30 00:00:00     130.000000    1.303670e+05   \n",
       "75%              2019-03-31 00:00:00     203.000000    2.030840e+05   \n",
       "max              2019-06-30 00:00:00     272.000000    2.373711e+06   \n",
       "std                              NaN      76.787096    8.071528e+04   \n",
       "\n",
       "             TXN_ID       PROD_NBR       PROD_QTY      TOT_SALES  \n",
       "count  2.467420e+05  246742.000000  246742.000000  246742.000000  \n",
       "mean   1.351311e+05      56.351789       1.908062       7.321322  \n",
       "min    1.000000e+00       1.000000       1.000000       1.700000  \n",
       "25%    6.756925e+04      26.000000       2.000000       5.800000  \n",
       "50%    1.351830e+05      53.000000       2.000000       7.400000  \n",
       "75%    2.026538e+05      87.000000       2.000000       8.800000  \n",
       "max    2.415841e+06     114.000000     200.000000     650.000000  \n",
       "std    7.814772e+04      33.695428       0.659831       3.077828  "
      ]
     },
     "execution_count": 15,
     "metadata": {},
     "output_type": "execute_result"
    }
   ],
   "source": [
    "# Checking of numerical column\n",
    "transactionData.describe()"
   ]
  },
  {
   "cell_type": "markdown",
   "id": "c92c82ba",
   "metadata": {
    "papermill": {
     "duration": 0.007561,
     "end_time": "2024-03-10T13:00:46.442197",
     "exception": false,
     "start_time": "2024-03-10T13:00:46.434636",
     "status": "completed"
    },
    "tags": []
   },
   "source": [
    "From the above summary, we can conclude that the `PROD_QTY` column contain some outliers."
   ]
  },
  {
   "cell_type": "code",
   "execution_count": 16,
   "id": "3b5078fe",
   "metadata": {
    "execution": {
     "iopub.execute_input": "2024-03-10T13:00:46.460198Z",
     "iopub.status.busy": "2024-03-10T13:00:46.459829Z",
     "iopub.status.idle": "2024-03-10T13:00:46.481653Z",
     "shell.execute_reply": "2024-03-10T13:00:46.480558Z"
    },
    "papermill": {
     "duration": 0.033966,
     "end_time": "2024-03-10T13:00:46.484136",
     "exception": false,
     "start_time": "2024-03-10T13:00:46.450170",
     "status": "completed"
    },
    "tags": []
   },
   "outputs": [
    {
     "data": {
      "text/plain": [
       "DATE              0\n",
       "STORE_NBR         0\n",
       "LYLTY_CARD_NBR    0\n",
       "TXN_ID            0\n",
       "PROD_NBR          0\n",
       "PROD_NAME         0\n",
       "PROD_QTY          0\n",
       "TOT_SALES         0\n",
       "dtype: int64"
      ]
     },
     "execution_count": 16,
     "metadata": {},
     "output_type": "execute_result"
    }
   ],
   "source": [
    "# Checking null value in each columns\n",
    "transactionData.isnull().sum()"
   ]
  },
  {
   "cell_type": "markdown",
   "id": "d0154ca5",
   "metadata": {
    "papermill": {
     "duration": 0.007379,
     "end_time": "2024-03-10T13:00:46.499431",
     "exception": false,
     "start_time": "2024-03-10T13:00:46.492052",
     "status": "completed"
    },
    "tags": []
   },
   "source": [
    "No column contains a null value."
   ]
  },
  {
   "cell_type": "code",
   "execution_count": 17,
   "id": "aef131b5",
   "metadata": {
    "execution": {
     "iopub.execute_input": "2024-03-10T13:00:46.517179Z",
     "iopub.status.busy": "2024-03-10T13:00:46.516807Z",
     "iopub.status.idle": "2024-03-10T13:00:46.527157Z",
     "shell.execute_reply": "2024-03-10T13:00:46.526306Z"
    },
    "papermill": {
     "duration": 0.022025,
     "end_time": "2024-03-10T13:00:46.529220",
     "exception": false,
     "start_time": "2024-03-10T13:00:46.507195",
     "status": "completed"
    },
    "tags": []
   },
   "outputs": [
    {
     "data": {
      "text/plain": [
       "PROD_QTY\n",
       "2      220070\n",
       "1       25476\n",
       "5         415\n",
       "3         408\n",
       "4         371\n",
       "200         2\n",
       "Name: count, dtype: int64"
      ]
     },
     "execution_count": 17,
     "metadata": {},
     "output_type": "execute_result"
    }
   ],
   "source": [
    "# Checking number of transaction of each quantity\n",
    "transactionData[\"PROD_QTY\"].value_counts()"
   ]
  },
  {
   "cell_type": "markdown",
   "id": "f8b937d8",
   "metadata": {
    "papermill": {
     "duration": 0.007654,
     "end_time": "2024-03-10T13:00:46.545238",
     "exception": false,
     "start_time": "2024-03-10T13:00:46.537584",
     "status": "completed"
    },
    "tags": []
   },
   "source": [
    "There are two transactions where 200 packets of chips are bought in one transaction, and in the rest of the transactions, 5 or fewer packets of chips are bought. So, we should remove those transactions where 200 packets of chips are bought."
   ]
  },
  {
   "cell_type": "code",
   "execution_count": null,
   "id": "0b55cef1",
   "metadata": {
    "papermill": {
     "duration": 0.007658,
     "end_time": "2024-03-10T13:00:46.561064",
     "exception": false,
     "start_time": "2024-03-10T13:00:46.553406",
     "status": "completed"
    },
    "tags": []
   },
   "outputs": [],
   "source": []
  }
 ],
 "metadata": {
  "kaggle": {
   "accelerator": "none",
   "dataSources": [
    {
     "datasetId": 4563886,
     "sourceId": 7795626,
     "sourceType": "datasetVersion"
    }
   ],
   "dockerImageVersionId": 30664,
   "isGpuEnabled": false,
   "isInternetEnabled": true,
   "language": "python",
   "sourceType": "notebook"
  },
  "kernelspec": {
   "display_name": "Python 3",
   "language": "python",
   "name": "python3"
  },
  "language_info": {
   "codemirror_mode": {
    "name": "ipython",
    "version": 3
   },
   "file_extension": ".py",
   "mimetype": "text/x-python",
   "name": "python",
   "nbconvert_exporter": "python",
   "pygments_lexer": "ipython3",
   "version": "3.10.13"
  },
  "papermill": {
   "default_parameters": {},
   "duration": 40.815312,
   "end_time": "2024-03-10T13:00:47.190435",
   "environment_variables": {},
   "exception": null,
   "input_path": "__notebook__.ipynb",
   "output_path": "__notebook__.ipynb",
   "parameters": {},
   "start_time": "2024-03-10T13:00:06.375123",
   "version": "2.5.0"
  }
 },
 "nbformat": 4,
 "nbformat_minor": 5
}
